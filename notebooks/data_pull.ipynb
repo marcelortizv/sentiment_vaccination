{
 "cells": [
  {
   "cell_type": "markdown",
   "metadata": {},
   "source": [
    "# Import libraries"
   ]
  },
  {
   "cell_type": "code",
   "execution_count": 1,
   "metadata": {},
   "outputs": [],
   "source": [
    "import pandas as pd\n",
    "import numpy as np"
   ]
  },
  {
   "cell_type": "markdown",
   "metadata": {},
   "source": [
    "### Notebook parameters"
   ]
  },
  {
   "cell_type": "code",
   "execution_count": 1,
   "metadata": {},
   "outputs": [
    {
     "name": "stdout",
     "output_type": "stream",
     "text": [
      "..\\data\\vaccination_all_tweets_update04032021_wTweetInfo.csv\n"
     ]
    }
   ],
   "source": [
    "data_name = 'vaccination_all_tweets_update04032021'\n",
    "list_tweets_information = 'id_tweets_info'\n",
    "list_users_information = 'id_users_info'\n",
    "\n",
    "path_output = \"..\\data\\\\\" + data_name + \"_wTweetInfo.csv\"\n",
    "print(path_output)"
   ]
  },
  {
   "cell_type": "markdown",
   "metadata": {},
   "source": [
    "# Get tweet info"
   ]
  },
  {
   "cell_type": "code",
   "execution_count": 5,
   "metadata": {},
   "outputs": [],
   "source": [
    "tweets_data = pd.read_csv(data_name + '.csv')\n",
    "\n",
    "id_tweets = tweets_data['id']\n",
    "id_tweets.to_csv(list_users_information + '.txt', header=None, index=False)"
   ]
  },
  {
   "cell_type": "code",
   "execution_count": 9,
   "metadata": {},
   "outputs": [
    {
     "name": "stdout",
     "output_type": "stream",
     "text": [
      "(aprox) Missing users:   45000\n",
      "(aprox) Missing users:   35700\n",
      "(aprox) Missing users:   27000\n",
      "(aprox) Missing users:   18000\n",
      "(aprox) Missing users:   8700\n",
      "(aprox) Missing users:   0\n",
      "Download was done successfully\n",
      "All results written\n",
      "Not missing users\n"
     ]
    }
   ],
   "source": [
    "%run ..\\src\\download_tweet_info.py \"..\\data\\id_tweets_info.txt\" \"..\\data\\vaccination_all_tweets_update04032021_wTweetInfo.csv\" \"..\\src\\tweets_info_conf.txt\" \"..\\docs\\tokens\\ownTokens.csv\""
   ]
  },
  {
   "cell_type": "markdown",
   "metadata": {},
   "source": [
    "# Get User Info"
   ]
  },
  {
   "cell_type": "code",
   "execution_count": 26,
   "metadata": {},
   "outputs": [],
   "source": [
    "tweets_data = pd.read_csv(path_output)\n",
    "\n",
    "screen_name = tweets_data['author_screen_name']\n",
    "screen_name.to_csv(list_users_information + '.txt', header=None, index=False)"
   ]
  },
  {
   "cell_type": "code",
   "execution_count": null,
   "metadata": {},
   "outputs": [
    {
     "name": "stdout",
     "output_type": "stream",
     "text": [
      "(aprox) Missing users:   43100\n",
      "(aprox) Missing users:   30800\n",
      "(aprox) Missing users:   19200\n",
      "(aprox) Missing users:   7600\n",
      "All results written\n",
      "Not missing users\n"
     ]
    }
   ],
   "source": [
    "%run ..\\src\\download_user_info.py \"..\\data\\id_users_info.txt\" \"..\\data\\vaccination_all_tweets_update04032021_wUserInfo.csv\" \"..\\src\\user_info_conf.txt\" \"..\\docs\\tokens\\ownTokens.csv\""
   ]
  },
  {
   "cell_type": "markdown",
   "metadata": {},
   "source": [
    "# Save data"
   ]
  },
  {
   "cell_type": "code",
   "execution_count": null,
   "metadata": {},
   "outputs": [],
   "source": [
    "who = pd.read_csv('../data/followers/WHO.csv', header=None)\n",
    "cdc = pd.read_csv('../data/followers/CDCgov.csv', header=None)\n",
    "\n",
    "list_who = list(who[0])\n",
    "list_cdc = list(cdc[0])\n",
    "\n",
    "list_total = list_who + list_cdc"
   ]
  },
  {
   "cell_type": "code",
   "execution_count": null,
   "metadata": {},
   "outputs": [],
   "source": [
    "tweets_df = pd.read_csv('../data/' + data_name + '_wTweetInfo.csv')\n",
    "users_df  = pd.read_csv('../data/' + data_name + '_wUserInfo.csv')\n",
    "\n",
    "all_df = pd.merge(tweets_df, users_df, left_on='author_screen_name',right_on='screen_name')\n",
    "all_df.drop_duplicates(subset=['id_str'], inplace=True)\n",
    "\n",
    "all_df['treatment'] = all_df['id_str'].isin(list_total)"
   ]
  },
  {
   "cell_type": "code",
   "execution_count": null,
   "metadata": {},
   "outputs": [],
   "source": [
    "all_df.to_csv('../data/' + data_name + '_final_df.csv' , index = False)"
   ]
  }
 ],
 "metadata": {
  "kernelspec": {
   "display_name": "Python 3",
   "language": "python",
   "name": "python3"
  },
  "language_info": {
   "codemirror_mode": {
    "name": "ipython",
    "version": 3
   },
   "file_extension": ".py",
   "mimetype": "text/x-python",
   "name": "python",
   "nbconvert_exporter": "python",
   "pygments_lexer": "ipython3",
   "version": "3.7.4"
  }
 },
 "nbformat": 4,
 "nbformat_minor": 4
}
