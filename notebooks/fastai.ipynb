{
 "cells": [
  {
   "cell_type": "markdown",
   "source": [
    "I will be making use of transfer learning to help you to create a model to analyse tweet sentiment.\n",
    "The idea behind transfer learning is that neural networks learn information that generalises to new\n",
    "problems, particularly the early layer of the network.In computer vision, for example, we can take a model that was\n",
    "trained on the ImageNet dataset to recognise different features of images such as circles,\n",
    "then apply that to a smaller dataset and fine-tune the model to be more suited to a specific\n",
    "task (e.g. classifying images as cats or dogs). This technique allows us to train neural\n",
    "networks much faster and with far less data than we would otherwise need.\n",
    "In 2008, Howard and Ruder (2018) introduce a transfer technique for NLP called 'Universal Language\n",
    "Fine-Tuning'. The approach is as follows"
   ],
   "metadata": {
    "collapsed": false,
    "pycharm": {
     "name": "#%% md\n"
    }
   }
  },
  {
   "cell_type": "markdown",
   "source": [
    "* Train a language model to predict the next word in a sentence. This step is already done. With fastai we\n",
    "can dowload a model that has been pre-trained for this task on millions of Wikipedia articles. A good language\n",
    "model already knows a lot about how language works in general. For instance, given the sentence 'Quito\n",
    "es the capital of', the model might predict 'Ecuador' as the next word. In this case, the model\n",
    "understands that Quito is closely related to Japan and that 'capital' refers to 'city' here instead\n",
    "of 'upper-case letter' or 'money'.\n",
    "* Fine-tune the language model to a more specific task.\n",
    "The pre-trained language model is good at understanding Wikipedia English, but Twitter English is a\n",
    " bit different. We can take the information the Wikipedia model has learned and apply that to a\n",
    " Twitter dataset to get a Twitter language model that is good at predicting the next word in a tweet.\n",
    "* Fine-tune a classification model to identify sentiment using the pre-trained language model.\n",
    "The idea here is that since our language model already knows a lot about Twitter English,\n",
    "it's not a huge leap from there to train a classifier that understands that 'love' refers to positive\n",
    "sentiment and 'hate' refers to negative sentiment. If we tried to train a classifier without using a\n",
    "pre-trained model it would have to learn the whole language from scratch first, which would be very\n",
    "difficult and time consuming."
   ],
   "metadata": {
    "collapsed": false,
    "pycharm": {
     "name": "#%% md\n"
    }
   }
  },
  {
   "cell_type": "markdown",
   "source": [
    "## Loading data"
   ],
   "metadata": {
    "collapsed": false,
    "pycharm": {
     "name": "#%% md\n"
    }
   }
  },
  {
   "cell_type": "code",
   "execution_count": 5,
   "outputs": [],
   "source": [
    "from fastai.text.all import *"
   ],
   "metadata": {
    "collapsed": false,
    "pycharm": {
     "name": "#%%\n"
    }
   }
  },
  {
   "cell_type": "code",
   "execution_count": 6,
   "outputs": [
    {
     "data": {
      "text/plain": "                    id             user_name              user_location  \\\n0  1340539111971516416            Rachel Roh  La Crescenta-Montrose, CA   \n1  1338158543359250433           Albert Fong          San Francisco, CA   \n2  1337858199140118533              eli🇱🇹🇪🇺👌                   Your Bed   \n3  1337855739918835717         Charles Adler     Vancouver, BC - Canada   \n4  1337854064604966912  Citizen News Channel                        NaN   \n\n                                                                                                                                    user_description  \\\n0                                   Aggregator of Asian American news; scanning diverse sources 24/7/365. RT's, Follows and 'Likes' will fuel me 👩‍💻   \n1            Marketing dude, tech geek, heavy metal & '80s music junkie. Fascinated by meteorology and all things in the cloud. Opinions are my own.   \n2                                                                                                                                     heil, hydra 🖐☺   \n3  Hosting \"CharlesAdlerTonight\" Global News Radio Network. Weeknights 7 Pacific-10 Eastern - Email comments/ideas to charles@charlesadlertonight.ca   \n4                Citizen News Channel bringing you an alternative news source from citizen journalists that haven't sold out. Real news & real views   \n\n          user_created  user_followers  user_friends  user_favourites  \\\n0  2009-04-08 17:52:46             405          1692             3247   \n1  2009-09-21 15:27:30             834           666              178   \n2  2020-06-25 23:30:28              10            88              155   \n3  2008-09-10 11:28:53           49165          3933            21853   \n4  2020-04-23 17:58:42             152           580             1473   \n\n   user_verified                 date  \\\n0          False  2020-12-20 06:06:44   \n1          False  2020-12-13 16:27:13   \n2          False  2020-12-12 20:33:45   \n3           True  2020-12-12 20:23:59   \n4          False  2020-12-12 20:17:19   \n\n                                                                                                                                           text  \\\n0                                             Same folks said daikon paste could treat a cytokine storm #PfizerBioNTech https://t.co/xeHhIMg1kF   \n1  While the world has been on the wrong side of history this year, hopefully, the biggest vaccination effort we've ev… https://t.co/dlCHrZjkhm   \n2  #coronavirus #SputnikV #AstraZeneca #PfizerBioNTech #Moderna #Covid_19 Russian vaccine is created to last 2-4 years… https://t.co/ieYlCKBr8P   \n3  Facts are immutable, Senator, even when you're not ethically sturdy enough to acknowledge them. (1) You were born i… https://t.co/jqgV18kch4   \n4       Explain to me again why we need a vaccine @BorisJohnson @MattHancock #whereareallthesickpeople #PfizerBioNTech… https://t.co/KxbSRoBEHq   \n\n                                                                              hashtags  \\\n0                                                                   ['PfizerBioNTech']   \n1                                                                                  NaN   \n2  ['coronavirus', 'SputnikV', 'AstraZeneca', 'PfizerBioNTech', 'Moderna', 'Covid_19']   \n3                                                                                  NaN   \n4                                       ['whereareallthesickpeople', 'PfizerBioNTech']   \n\n                source  retweets  favorites  is_retweet  \n0  Twitter for Android         0          0       False  \n1      Twitter Web App         1          1       False  \n2  Twitter for Android         0          0       False  \n3      Twitter Web App       446       2129       False  \n4   Twitter for iPhone         0          0       False  ",
      "text/html": "<div>\n<style scoped>\n    .dataframe tbody tr th:only-of-type {\n        vertical-align: middle;\n    }\n\n    .dataframe tbody tr th {\n        vertical-align: top;\n    }\n\n    .dataframe thead th {\n        text-align: right;\n    }\n</style>\n<table border=\"1\" class=\"dataframe\">\n  <thead>\n    <tr style=\"text-align: right;\">\n      <th></th>\n      <th>id</th>\n      <th>user_name</th>\n      <th>user_location</th>\n      <th>user_description</th>\n      <th>user_created</th>\n      <th>user_followers</th>\n      <th>user_friends</th>\n      <th>user_favourites</th>\n      <th>user_verified</th>\n      <th>date</th>\n      <th>text</th>\n      <th>hashtags</th>\n      <th>source</th>\n      <th>retweets</th>\n      <th>favorites</th>\n      <th>is_retweet</th>\n    </tr>\n  </thead>\n  <tbody>\n    <tr>\n      <th>0</th>\n      <td>1340539111971516416</td>\n      <td>Rachel Roh</td>\n      <td>La Crescenta-Montrose, CA</td>\n      <td>Aggregator of Asian American news; scanning diverse sources 24/7/365. RT's, Follows and 'Likes' will fuel me 👩‍💻</td>\n      <td>2009-04-08 17:52:46</td>\n      <td>405</td>\n      <td>1692</td>\n      <td>3247</td>\n      <td>False</td>\n      <td>2020-12-20 06:06:44</td>\n      <td>Same folks said daikon paste could treat a cytokine storm #PfizerBioNTech https://t.co/xeHhIMg1kF</td>\n      <td>['PfizerBioNTech']</td>\n      <td>Twitter for Android</td>\n      <td>0</td>\n      <td>0</td>\n      <td>False</td>\n    </tr>\n    <tr>\n      <th>1</th>\n      <td>1338158543359250433</td>\n      <td>Albert Fong</td>\n      <td>San Francisco, CA</td>\n      <td>Marketing dude, tech geek, heavy metal &amp; '80s music junkie. Fascinated by meteorology and all things in the cloud. Opinions are my own.</td>\n      <td>2009-09-21 15:27:30</td>\n      <td>834</td>\n      <td>666</td>\n      <td>178</td>\n      <td>False</td>\n      <td>2020-12-13 16:27:13</td>\n      <td>While the world has been on the wrong side of history this year, hopefully, the biggest vaccination effort we've ev… https://t.co/dlCHrZjkhm</td>\n      <td>NaN</td>\n      <td>Twitter Web App</td>\n      <td>1</td>\n      <td>1</td>\n      <td>False</td>\n    </tr>\n    <tr>\n      <th>2</th>\n      <td>1337858199140118533</td>\n      <td>eli🇱🇹🇪🇺👌</td>\n      <td>Your Bed</td>\n      <td>heil, hydra 🖐☺</td>\n      <td>2020-06-25 23:30:28</td>\n      <td>10</td>\n      <td>88</td>\n      <td>155</td>\n      <td>False</td>\n      <td>2020-12-12 20:33:45</td>\n      <td>#coronavirus #SputnikV #AstraZeneca #PfizerBioNTech #Moderna #Covid_19 Russian vaccine is created to last 2-4 years… https://t.co/ieYlCKBr8P</td>\n      <td>['coronavirus', 'SputnikV', 'AstraZeneca', 'PfizerBioNTech', 'Moderna', 'Covid_19']</td>\n      <td>Twitter for Android</td>\n      <td>0</td>\n      <td>0</td>\n      <td>False</td>\n    </tr>\n    <tr>\n      <th>3</th>\n      <td>1337855739918835717</td>\n      <td>Charles Adler</td>\n      <td>Vancouver, BC - Canada</td>\n      <td>Hosting \"CharlesAdlerTonight\" Global News Radio Network. Weeknights 7 Pacific-10 Eastern - Email comments/ideas to charles@charlesadlertonight.ca</td>\n      <td>2008-09-10 11:28:53</td>\n      <td>49165</td>\n      <td>3933</td>\n      <td>21853</td>\n      <td>True</td>\n      <td>2020-12-12 20:23:59</td>\n      <td>Facts are immutable, Senator, even when you're not ethically sturdy enough to acknowledge them. (1) You were born i… https://t.co/jqgV18kch4</td>\n      <td>NaN</td>\n      <td>Twitter Web App</td>\n      <td>446</td>\n      <td>2129</td>\n      <td>False</td>\n    </tr>\n    <tr>\n      <th>4</th>\n      <td>1337854064604966912</td>\n      <td>Citizen News Channel</td>\n      <td>NaN</td>\n      <td>Citizen News Channel bringing you an alternative news source from citizen journalists that haven't sold out. Real news &amp; real views</td>\n      <td>2020-04-23 17:58:42</td>\n      <td>152</td>\n      <td>580</td>\n      <td>1473</td>\n      <td>False</td>\n      <td>2020-12-12 20:17:19</td>\n      <td>Explain to me again why we need a vaccine @BorisJohnson @MattHancock #whereareallthesickpeople #PfizerBioNTech… https://t.co/KxbSRoBEHq</td>\n      <td>['whereareallthesickpeople', 'PfizerBioNTech']</td>\n      <td>Twitter for iPhone</td>\n      <td>0</td>\n      <td>0</td>\n      <td>False</td>\n    </tr>\n  </tbody>\n</table>\n</div>"
     },
     "execution_count": 6,
     "metadata": {},
     "output_type": "execute_result"
    }
   ],
   "source": [
    "vax_tweets = pd.read_csv('../data/vaccination_all_tweets_update04032021.csv')\n",
    "vax_tweets.head()"
   ],
   "metadata": {
    "collapsed": false,
    "pycharm": {
     "name": "#%%\n"
    }
   }
  },
  {
   "cell_type": "markdown",
   "source": [
    "I could use the text column of this dataset to train a Twitter language model,\n",
    "but since our end goal is sentiment analysis we will need to find another dataset that also contains\n",
    "sentiment labels to train our classifier. Let's use 'Complete Tweet Sentiment Extraction Data',\n",
    "which contains 40,000 tweets labelled as either negative, neutral or positive sentiment."
   ],
   "metadata": {
    "collapsed": false,
    "pycharm": {
     "name": "#%% md\n"
    }
   }
  },
  {
   "cell_type": "code",
   "execution_count": 7,
   "outputs": [
    {
     "data": {
      "text/plain": "       textID   sentiment       author  \\\n0  1956967341       empty   xoshayzers   \n1  1956967666     sadness    wannamama   \n2  1956967696     sadness    coolfunky   \n3  1956967789  enthusiasm  czareaquino   \n4  1956968416     neutral    xkilljoyx   \n\n                                                                                text  \\\n0   i know  i was listenin to bad habit earlier and i started freakin at his part =[   \n1                       Layin n bed with a headache  ughhhh...waitin on your call...   \n2                                                Funeral ceremony...gloomy friday...   \n3                                               wants to hang out with friends SOON!   \n4            We want to trade with someone who has Houston tickets, but no one will.   \n\n                                                                                       old_text  \\\n0  @tiffanylue i know  i was listenin to bad habit earlier and i started freakin at his part =[   \n1                                  Layin n bed with a headache  ughhhh...waitin on your call...   \n2                                                           Funeral ceremony...gloomy friday...   \n3                                                          wants to hang out with friends SOON!   \n4        @dannycastillo We want to trade with someone who has Houston tickets, but no one will.   \n\n        aux_id new_sentiment  \\\n0  p1000000000           NaN   \n1   c811396dc2      negative   \n2   9063631ab1      negative   \n3   2a815f151d      positive   \n4   82565a56d3       neutral   \n\n                                                             selected_text  \n0                                                                      NaN  \n1                                                                 headache  \n2                                                                   gloomy  \n3                                     wants to hang out with friends SOON!  \n4  We want to trade with someone who has Houston tickets, but no one will.  ",
      "text/html": "<div>\n<style scoped>\n    .dataframe tbody tr th:only-of-type {\n        vertical-align: middle;\n    }\n\n    .dataframe tbody tr th {\n        vertical-align: top;\n    }\n\n    .dataframe thead th {\n        text-align: right;\n    }\n</style>\n<table border=\"1\" class=\"dataframe\">\n  <thead>\n    <tr style=\"text-align: right;\">\n      <th></th>\n      <th>textID</th>\n      <th>sentiment</th>\n      <th>author</th>\n      <th>text</th>\n      <th>old_text</th>\n      <th>aux_id</th>\n      <th>new_sentiment</th>\n      <th>selected_text</th>\n    </tr>\n  </thead>\n  <tbody>\n    <tr>\n      <th>0</th>\n      <td>1956967341</td>\n      <td>empty</td>\n      <td>xoshayzers</td>\n      <td>i know  i was listenin to bad habit earlier and i started freakin at his part =[</td>\n      <td>@tiffanylue i know  i was listenin to bad habit earlier and i started freakin at his part =[</td>\n      <td>p1000000000</td>\n      <td>NaN</td>\n      <td>NaN</td>\n    </tr>\n    <tr>\n      <th>1</th>\n      <td>1956967666</td>\n      <td>sadness</td>\n      <td>wannamama</td>\n      <td>Layin n bed with a headache  ughhhh...waitin on your call...</td>\n      <td>Layin n bed with a headache  ughhhh...waitin on your call...</td>\n      <td>c811396dc2</td>\n      <td>negative</td>\n      <td>headache</td>\n    </tr>\n    <tr>\n      <th>2</th>\n      <td>1956967696</td>\n      <td>sadness</td>\n      <td>coolfunky</td>\n      <td>Funeral ceremony...gloomy friday...</td>\n      <td>Funeral ceremony...gloomy friday...</td>\n      <td>9063631ab1</td>\n      <td>negative</td>\n      <td>gloomy</td>\n    </tr>\n    <tr>\n      <th>3</th>\n      <td>1956967789</td>\n      <td>enthusiasm</td>\n      <td>czareaquino</td>\n      <td>wants to hang out with friends SOON!</td>\n      <td>wants to hang out with friends SOON!</td>\n      <td>2a815f151d</td>\n      <td>positive</td>\n      <td>wants to hang out with friends SOON!</td>\n    </tr>\n    <tr>\n      <th>4</th>\n      <td>1956968416</td>\n      <td>neutral</td>\n      <td>xkilljoyx</td>\n      <td>We want to trade with someone who has Houston tickets, but no one will.</td>\n      <td>@dannycastillo We want to trade with someone who has Houston tickets, but no one will.</td>\n      <td>82565a56d3</td>\n      <td>neutral</td>\n      <td>We want to trade with someone who has Houston tickets, but no one will.</td>\n    </tr>\n  </tbody>\n</table>\n</div>"
     },
     "execution_count": 7,
     "metadata": {},
     "output_type": "execute_result"
    }
   ],
   "source": [
    "tweets = pd.read_csv('../data/training sentiment model/tweet_dataset.csv')\n",
    "tweets.head()"
   ],
   "metadata": {
    "collapsed": false,
    "pycharm": {
     "name": "#%%\n"
    }
   }
  },
  {
   "cell_type": "code",
   "execution_count": 8,
   "outputs": [],
   "source": [
    "# Code via https://www.kaggle.com/garyongguanjie/comments-analysis\n",
    "def de_emojify(inputString):\n",
    "    return inputString.encode('ascii', 'ignore').decode('ascii')\n",
    "\n",
    "# Code via https://www.kaggle.com/pawanbhandarkar/generate-smarter-word-clouds-with-log-likelihood\n",
    "def tweet_proc(df, text_col='text'):\n",
    "    df['orig_text'] = df[text_col]\n",
    "    # Remove twitter handles\n",
    "    df[text_col] = df[text_col].apply(lambda x:re.sub('@[^\\s]+','',x))\n",
    "    # Remove URLs\n",
    "    df[text_col] = df[text_col].apply(lambda x:re.sub(r\"http\\S+\", \"\", x))\n",
    "    # Remove emojis\n",
    "    df[text_col] = df[text_col].apply(de_emojify)\n",
    "    # Remove hashtags\n",
    "    df[text_col] = df[text_col].apply(lambda x:re.sub(r'\\B#\\S+','',x))\n",
    "    return df[df[text_col]!='']"
   ],
   "metadata": {
    "collapsed": false,
    "pycharm": {
     "name": "#%%\n"
    }
   }
  },
  {
   "cell_type": "code",
   "execution_count": 9,
   "outputs": [],
   "source": [
    "# clean text data and combine the two dataframes\n",
    "tweets = tweets[['old_text', 'new_sentiment']].rename(columns={'old_text':'text', 'new_sentiment':'sentiment'})\n",
    "vax_tweets['sentiment'] = np.nan\n",
    "\n",
    "tweets = tweet_proc(tweets)\n",
    "vax_tweets = tweet_proc(vax_tweets)"
   ],
   "metadata": {
    "collapsed": false,
    "pycharm": {
     "name": "#%%\n"
    }
   }
  },
  {
   "cell_type": "code",
   "execution_count": 11,
   "outputs": [
    {
     "name": "stdout",
     "output_type": "stream",
     "text": [
      "Rows in all dataset:  84832\n",
      "Rows in training dataset:  31323\n"
     ]
    }
   ],
   "source": [
    "df_lm = tweets[['text', 'sentiment']].append(vax_tweets[['text', 'sentiment']])\n",
    "df_clas = df_lm.dropna(subset=['sentiment'])\n",
    "print('Rows for Language Model: ', df_lm))\n",
    "print('Rows for Classification Model: ', len(df_clas))"
   ],
   "metadata": {
    "collapsed": false,
    "pycharm": {
     "name": "#%%\n"
    }
   }
  },
  {
   "cell_type": "code",
   "execution_count": 12,
   "outputs": [
    {
     "data": {
      "text/plain": "                                                                       text  \\\n1              Layin n bed with a headache  ughhhh...waitin on your call...   \n2                                       Funeral ceremony...gloomy friday...   \n3                                      wants to hang out with friends SOON!   \n4   We want to trade with someone who has Houston tickets, but no one will.   \n5    Re-pinging  why didn't you go to prom? BC my bf didn't like my friends   \n\n  sentiment  \n1  negative  \n2  negative  \n3  positive  \n4   neutral  \n5  negative  ",
      "text/html": "<div>\n<style scoped>\n    .dataframe tbody tr th:only-of-type {\n        vertical-align: middle;\n    }\n\n    .dataframe tbody tr th {\n        vertical-align: top;\n    }\n\n    .dataframe thead th {\n        text-align: right;\n    }\n</style>\n<table border=\"1\" class=\"dataframe\">\n  <thead>\n    <tr style=\"text-align: right;\">\n      <th></th>\n      <th>text</th>\n      <th>sentiment</th>\n    </tr>\n  </thead>\n  <tbody>\n    <tr>\n      <th>1</th>\n      <td>Layin n bed with a headache  ughhhh...waitin on your call...</td>\n      <td>negative</td>\n    </tr>\n    <tr>\n      <th>2</th>\n      <td>Funeral ceremony...gloomy friday...</td>\n      <td>negative</td>\n    </tr>\n    <tr>\n      <th>3</th>\n      <td>wants to hang out with friends SOON!</td>\n      <td>positive</td>\n    </tr>\n    <tr>\n      <th>4</th>\n      <td>We want to trade with someone who has Houston tickets, but no one will.</td>\n      <td>neutral</td>\n    </tr>\n    <tr>\n      <th>5</th>\n      <td>Re-pinging  why didn't you go to prom? BC my bf didn't like my friends</td>\n      <td>negative</td>\n    </tr>\n  </tbody>\n</table>\n</div>"
     },
     "execution_count": 12,
     "metadata": {},
     "output_type": "execute_result"
    }
   ],
   "source": [
    "df_clas.head()"
   ],
   "metadata": {
    "collapsed": false,
    "pycharm": {
     "name": "#%%\n"
    }
   }
  },
  {
   "cell_type": "markdown",
   "source": [
    "## Training a Language Model\n",
    "\n",
    "To train our language model I can use self-supervised learning; I just need to give the model\n",
    "some text as an independent variable and fastai will automatically preprocess it and create a\n",
    "dependent variable for us. I can do this in one line of code using the DataLoaders class,\n",
    "which converts our input data into a DataLoader object that can be used as an input to a fastai Learner."
   ],
   "metadata": {
    "collapsed": false,
    "pycharm": {
     "name": "#%% md\n"
    }
   }
  },
  {
   "cell_type": "code",
   "execution_count": 13,
   "outputs": [
    {
     "name": "stdout",
     "output_type": "stream",
     "text": [
      "Due to IPython and Windows limitation, python multiprocessing isn't available now.\n",
      "So `n_workers` has to be changed to 0 to avoid getting stuck\n"
     ]
    },
    {
     "name": "stderr",
     "output_type": "stream",
     "text": [
      "C:\\Users\\marce\\Anaconda3\\lib\\site-packages\\numpy\\core\\_asarray.py:83: VisibleDeprecationWarning: Creating an ndarray from ragged nested sequences (which is a list-or-tuple of lists-or-tuples-or ndarrays with different lengths or shapes) is deprecated. If you meant to do this, you must specify 'dtype=object' when creating the ndarray\n",
      "  return array(a, dtype, copy=False, order=order)\n"
     ]
    }
   ],
   "source": [
    "dls_lm = TextDataLoaders.from_df(df_lm, text_col='text', is_lm=True, valid_pct=0.1)"
   ],
   "metadata": {
    "collapsed": false,
    "pycharm": {
     "name": "#%%\n"
    }
   }
  },
  {
   "cell_type": "markdown",
   "source": [
    "Here I told fastai that I am working with text data, which is contained in the text column\n",
    "of a pandas DataFrame called df_lm. I set is_lm=True since we want to train a language model, so\n",
    "fastai needs to label the input data for us. Finally, I told fastai to hold out a random 10% of our\n",
    "data for a validation set using valid_pct=0.1\n",
    "\n",
    "Let's take a look at the first two rows of the DataLoader using show_batch"
   ],
   "metadata": {
    "collapsed": false,
    "pycharm": {
     "name": "#%% md\n"
    }
   }
  },
  {
   "cell_type": "code",
   "execution_count": 15,
   "outputs": [
    {
     "data": {
      "text/plain": "<IPython.core.display.HTML object>",
      "text/html": "<table border=\"1\" class=\"dataframe\">\n  <thead>\n    <tr style=\"text-align: right;\">\n      <th></th>\n      <th>text</th>\n      <th>text_</th>\n    </tr>\n  </thead>\n  <tbody>\n    <tr>\n      <th>0</th>\n      <td>xxbos i received my 1st dose of the this morning . xxbos xxmaj sputnik v is one of the candidates used for the xxmaj mutual xxmaj cooperation xxmaj vaccination xxmaj program in xxbos xxmaj feel privileged to have received my first dose of the xxup covid-19 vaccination at the very efficient xxbos xxmaj in xxmaj dec 2020 xxup usa xxmaj bought 200 m doses - manufacturing began during clinical trials to expedite</td>\n      <td>i received my 1st dose of the this morning . xxbos xxmaj sputnik v is one of the candidates used for the xxmaj mutual xxmaj cooperation xxmaj vaccination xxmaj program in xxbos xxmaj feel privileged to have received my first dose of the xxup covid-19 vaccination at the very efficient xxbos xxmaj in xxmaj dec 2020 xxup usa xxmaj bought 200 m doses - manufacturing began during clinical trials to expedite traditional</td>\n    </tr>\n    <tr>\n      <th>1</th>\n      <td>sorry my bad . xxbos hmm … ok , well i hope you feel better soon babe xxmaj i m a go to bed , i have a long day tomorrow xxbos and now its raining xxbos where is my xxunk belly when i need her ? xxbos d xxup like \\n 2021 xxmaj top 8 xxmaj vacinas \\n xxmaj brazil xxup sfe xxmaj company \\n\\n▁ xxup inc \\n\\n▁ xxup se xxbos</td>\n      <td>my bad . xxbos hmm … ok , well i hope you feel better soon babe xxmaj i m a go to bed , i have a long day tomorrow xxbos and now its raining xxbos where is my xxunk belly when i need her ? xxbos d xxup like \\n 2021 xxmaj top 8 xxmaj vacinas \\n xxmaj brazil xxup sfe xxmaj company \\n\\n▁ xxup inc \\n\\n▁ xxup se xxbos xxmaj</td>\n    </tr>\n  </tbody>\n</table>"
     },
     "metadata": {},
     "output_type": "display_data"
    }
   ],
   "source": [
    "dls_lm.show_batch(max_n=2)"
   ],
   "metadata": {
    "collapsed": false,
    "pycharm": {
     "name": "#%%\n"
    }
   }
  },
  {
   "cell_type": "markdown",
   "source": [
    "We have a new column, text_, which is text offset by one. This is the dependent variable fastai\n",
    "created for us. By default fastai uses word tokenization, which splits the text on spaces and\n",
    "punctuation marks and breaks up words like can't into two separate tokens. fastai also has some\n",
    "special tokens starting with 'xx' that are designed to make things easier for the model;\n",
    "for example xxmaj indicates that the next word begins with a capital letter and xxunk represents an\n",
    "unknown word that doesn't appear in the vocabulary very often. You could experiment with subword\n",
    "tokenization instead, which will split the text on commonly occuring groups of letters instead of\n",
    "spaces. This might help if you wanted to leave hashtags in since they often contain multiple words\n",
    "joined together with no spaces, e.g. #CovidVaccine."
   ],
   "metadata": {
    "collapsed": false,
    "pycharm": {
     "name": "#%% md\n"
    }
   }
  },
  {
   "cell_type": "markdown",
   "source": [
    "## Fine-tuning the language model\n",
    "Here I passed language_model_learner our DataLoaders, dls_lm, and the pre-trained RNN model,\n",
    "AWD_LSTM, which is built into fastai. drop_mult is a multiplier applied to all dropouts in the\n",
    "AWD_LSTM model to reduce overfitting. For example, by default fastai's AWD_LSTM applies\n",
    "EmbeddingDropout with 10% probability (at the time of writing), but I told fastai that we\n",
    "want to reduce that to 3%. The metrics we want to track are perplexity, which is the exponential\n",
    "of the loss (in this case cross entropy loss), and accuracy, which tells us how often our model\n",
    "predicts the next word correctly. We can also train with fp16 to use less memory and speed up the\n",
    "training process."
   ],
   "metadata": {
    "collapsed": false,
    "pycharm": {
     "name": "#%% md\n"
    }
   }
  },
  {
   "cell_type": "code",
   "execution_count": 16,
   "outputs": [
    {
     "data": {
      "text/plain": "<IPython.core.display.HTML object>",
      "text/html": "\n    <div>\n        <style>\n            /* Turns off some styling */\n            progress {\n                /* gets rid of default border in Firefox and Opera. */\n                border: none;\n                /* Needs to be in here for Safari polyfill so background images work as expected. */\n                background-size: auto;\n            }\n            .progress-bar-interrupted, .progress-bar-interrupted::-webkit-progress-bar {\n                background: #F44336;\n            }\n        </style>\n      <progress value='0' class='' max='105067061' style='width:300px; height:20px; vertical-align: middle;'></progress>\n      \n    </div>\n    "
     },
     "metadata": {},
     "output_type": "display_data"
    },
    {
     "name": "stderr",
     "output_type": "stream",
     "text": [
      "C:\\Users\\marce\\Anaconda3\\lib\\site-packages\\torch\\cuda\\amp\\autocast_mode.py:118: UserWarning: torch.cuda.amp.autocast only affects CUDA ops, but CUDA is not available.  Disabling.\n",
      "  warnings.warn(\"torch.cuda.amp.autocast only affects CUDA ops, but CUDA is not available.  Disabling.\")\n"
     ]
    }
   ],
   "source": [
    "learn = language_model_learner(dls_lm, AWD_LSTM, drop_mult=0.3, metrics=[accuracy, Perplexity()]).to_fp16()"
   ],
   "metadata": {
    "collapsed": false,
    "pycharm": {
     "name": "#%%\n"
    }
   }
  },
  {
   "cell_type": "code",
   "execution_count": 17,
   "outputs": [
    {
     "name": "stderr",
     "output_type": "stream",
     "text": [
      "C:\\Users\\marce\\Anaconda3\\lib\\site-packages\\torch\\cuda\\amp\\grad_scaler.py:116: UserWarning: torch.cuda.amp.GradScaler is enabled, but CUDA is not available.  Disabling.\n",
      "  warnings.warn(\"torch.cuda.amp.GradScaler is enabled, but CUDA is not available.  Disabling.\")\n"
     ]
    },
    {
     "data": {
      "text/plain": "<IPython.core.display.HTML object>",
      "text/html": "\n    <div>\n        <style>\n            /* Turns off some styling */\n            progress {\n                /* gets rid of default border in Firefox and Opera. */\n                border: none;\n                /* Needs to be in here for Safari polyfill so background images work as expected. */\n                background-size: auto;\n            }\n            .progress-bar-interrupted, .progress-bar-interrupted::-webkit-progress-bar {\n                background: #F44336;\n            }\n        </style>\n      <progress value='0' class='' max='1' style='width:300px; height:20px; vertical-align: middle;'></progress>\n      \n    </div>\n    \n"
     },
     "metadata": {},
     "output_type": "display_data"
    },
    {
     "data": {
      "text/plain": "SuggestedLRs(lr_min=0.04365158379077912, lr_steep=0.03981071710586548)"
     },
     "execution_count": 17,
     "metadata": {},
     "output_type": "execute_result"
    },
    {
     "data": {
      "text/plain": "<Figure size 432x288 with 1 Axes>",
      "image/png": "[encoded data removed]"
     },
     "metadata": {
      "needs_background": "light"
     },
     "output_type": "display_data"
    }
   ],
   "source": [
    "learn.lr_find()"
   ],
   "metadata": {
    "collapsed": false,
    "pycharm": {
     "name": "#%%\n"
    }
   }
  },
  {
   "cell_type": "code",
   "execution_count": null,
   "outputs": [],
   "source": [],
   "metadata": {
    "collapsed": false,
    "pycharm": {
     "name": "#%%\n"
    }
   }
  }
 ],
 "metadata": {
  "kernelspec": {
   "name": "python3",
   "language": "python",
   "display_name": "Python 3"
  },
  "language_info": {
   "codemirror_mode": {
    "name": "ipython",
    "version": 2
   },
   "file_extension": ".py",
   "mimetype": "text/x-python",
   "name": "python",
   "nbconvert_exporter": "python",
   "pygments_lexer": "ipython2",
   "version": "2.7.6"
  }
 },
 "nbformat": 4,
 "nbformat_minor": 0
}